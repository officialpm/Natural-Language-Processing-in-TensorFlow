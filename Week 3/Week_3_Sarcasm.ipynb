{
  "nbformat": 4,
  "nbformat_minor": 0,
  "metadata": {
    "colab": {
      "name": "Week 3 Sarcasm.ipynb",
      "provenance": [],
      "collapsed_sections": []
    },
    "kernelspec": {
      "name": "python3",
      "display_name": "Python 3"
    }
  },
  "cells": [
    {
      "cell_type": "markdown",
      "metadata": {
        "id": "6XFrmh8p_veR",
        "colab_type": "text"
      },
      "source": [
        "<img src=\"https://simpleicons.org/icons/github.svg\" width=\"30\" height=\"30\" /> Github Repo\n",
        "\n",
        "https://github.com/officialpm/Natural-Language-Processing-in-TensorFlow/"
      ]
    },
    {
      "cell_type": "code",
      "metadata": {
        "id": "JGqmMb5uWoDp",
        "colab_type": "code",
        "colab": {}
      },
      "source": [
        "import json\n",
        "import tensorflow as tf\n",
        "import numpy as np\n",
        "import pandas as pd\n",
        "from tensorflow.keras.preprocessing.text import Tokenizer\n",
        "from tensorflow.keras.preprocessing.sequence import pad_sequences"
      ],
      "execution_count": 0,
      "outputs": []
    },
    {
      "cell_type": "code",
      "metadata": {
        "id": "qZ2-jShdrFtI",
        "colab_type": "code",
        "outputId": "5cb0a46f-bb02-498e-8bc5-74e9a8f778ae",
        "colab": {
          "base_uri": "https://localhost:8080/",
          "height": 321
        }
      },
      "source": [
        "!wget --no-check-certificate \\\n",
        "    https://github.com/officialpm/Natural-Language-Processing-in-TensorFlow/raw/master/Week%203/sarcasm-Full.json \\\n",
        "    -O sarcasm.json"
      ],
      "execution_count": 9,
      "outputs": [
        {
          "output_type": "stream",
          "text": [
            "--2020-05-14 19:43:07--  https://github.com/officialpm/Natural-Language-Processing-in-TensorFlow/raw/master/Week%203/sarcasm-Full.json\n",
            "Resolving github.com (github.com)... 140.82.112.3\n",
            "Connecting to github.com (github.com)|140.82.112.3|:443... connected.\n",
            "HTTP request sent, awaiting response... 302 Found\n",
            "Location: https://raw.githubusercontent.com/officialpm/Natural-Language-Processing-in-TensorFlow/master/Week%203/sarcasm-Full.json [following]\n",
            "--2020-05-14 19:43:08--  https://raw.githubusercontent.com/officialpm/Natural-Language-Processing-in-TensorFlow/master/Week%203/sarcasm-Full.json\n",
            "Resolving raw.githubusercontent.com (raw.githubusercontent.com)... 151.101.0.133, 151.101.64.133, 151.101.128.133, ...\n",
            "Connecting to raw.githubusercontent.com (raw.githubusercontent.com)|151.101.0.133|:443... connected.\n",
            "HTTP request sent, awaiting response... 200 OK\n",
            "Length: 5616834 (5.4M) [text/plain]\n",
            "Saving to: ‘sarcasm.json’\n",
            "\n",
            "sarcasm.json        100%[===================>]   5.36M  13.2MB/s    in 0.4s    \n",
            "\n",
            "2020-05-14 19:43:08 (13.2 MB/s) - ‘sarcasm.json’ saved [5616834/5616834]\n",
            "\n"
          ],
          "name": "stdout"
        }
      ]
    },
    {
      "cell_type": "code",
      "metadata": {
        "id": "FEJvdvaNr6Oo",
        "colab_type": "code",
        "colab": {}
      },
      "source": [
        "vocab_size = 1000\n",
        "embedding_dim = 16\n",
        "max_length = 120\n",
        "trunc_type='post'\n",
        "padding_type='post'\n",
        "oov_tok = \"<OOV>\"\n",
        "training_size = 20000"
      ],
      "execution_count": 0,
      "outputs": []
    },
    {
      "cell_type": "code",
      "metadata": {
        "id": "vSYM9n47sAZE",
        "colab_type": "code",
        "colab": {
          "base_uri": "https://localhost:8080/",
          "height": 1000
        },
        "outputId": "4be10733-4513-401b-d8ae-7459255ed0bd"
      },
      "source": [
        "with open(\"sarcasm.json\", 'r') as f:\n",
        "    datastore = json.load(f)\n",
        "\n",
        "\n",
        "sentences = []\n",
        "labels = []\n",
        "urls = []\n",
        "for item in datastore:\n",
        "    sentences.append(item['headline'])\n",
        "    labels.append(item['is_sarcastic'])\n",
        "\n",
        "training_sentences = sentences[0:training_size]\n",
        "testing_sentences = sentences[training_size:]\n",
        "training_labels = labels[0:training_size]\n",
        "testing_labels = labels[training_size:]\n",
        "\n",
        "tokenizer = Tokenizer(num_words=vocab_size, oov_token=oov_tok)\n",
        "tokenizer.fit_on_texts(training_sentences)\n",
        "\n",
        "word_index = tokenizer.word_index\n",
        "\n",
        "training_sequences = tokenizer.texts_to_sequences(training_sentences)\n",
        "training_padded = pad_sequences(training_sequences, maxlen=max_length, padding=padding_type, truncating=trunc_type)\n",
        "\n",
        "testing_sequences = tokenizer.texts_to_sequences(testing_sentences)\n",
        "testing_padded = pad_sequences(testing_sequences, maxlen=max_length, padding=padding_type, truncating=trunc_type)\n",
        "\n",
        "model = tf.keras.Sequential([\n",
        "    tf.keras.layers.Embedding(vocab_size, embedding_dim, input_length=max_length),\n",
        "    tf.keras.layers.Bidirectional(tf.keras.layers.LSTM(32)),\n",
        "    tf.keras.layers.Dense(24, activation='relu'),\n",
        "    tf.keras.layers.Dense(1, activation='sigmoid')\n",
        "])\n",
        "model.compile(loss='binary_crossentropy',optimizer='adam',metrics=['accuracy'])\n",
        "model.summary()\n",
        "\n",
        "num_epochs = 50\n",
        "training_padded = np.array(training_padded)\n",
        "training_labels = np.array(training_labels)\n",
        "testing_padded = np.array(testing_padded)\n",
        "testing_labels = np.array(testing_labels)\n",
        "history = model.fit(training_padded, training_labels, epochs=num_epochs, validation_data=(testing_padded, testing_labels), verbose=1)"
      ],
      "execution_count": 11,
      "outputs": [
        {
          "output_type": "stream",
          "text": [
            "Model: \"sequential_1\"\n",
            "_________________________________________________________________\n",
            "Layer (type)                 Output Shape              Param #   \n",
            "=================================================================\n",
            "embedding_1 (Embedding)      (None, 120, 16)           16000     \n",
            "_________________________________________________________________\n",
            "bidirectional_1 (Bidirection (None, 64)                12544     \n",
            "_________________________________________________________________\n",
            "dense_2 (Dense)              (None, 24)                1560      \n",
            "_________________________________________________________________\n",
            "dense_3 (Dense)              (None, 1)                 25        \n",
            "=================================================================\n",
            "Total params: 30,129\n",
            "Trainable params: 30,129\n",
            "Non-trainable params: 0\n",
            "_________________________________________________________________\n",
            "Epoch 1/50\n",
            "625/625 [==============================] - 35s 56ms/step - loss: 0.4485 - accuracy: 0.7736 - val_loss: 0.3837 - val_accuracy: 0.8216\n",
            "Epoch 2/50\n",
            "625/625 [==============================] - 34s 55ms/step - loss: 0.3530 - accuracy: 0.8385 - val_loss: 0.3758 - val_accuracy: 0.8228\n",
            "Epoch 3/50\n",
            "625/625 [==============================] - 34s 55ms/step - loss: 0.3289 - accuracy: 0.8526 - val_loss: 0.3793 - val_accuracy: 0.8223\n",
            "Epoch 4/50\n",
            "625/625 [==============================] - 34s 54ms/step - loss: 0.3152 - accuracy: 0.8573 - val_loss: 0.3857 - val_accuracy: 0.8247\n",
            "Epoch 5/50\n",
            "625/625 [==============================] - 35s 55ms/step - loss: 0.3044 - accuracy: 0.8644 - val_loss: 0.3770 - val_accuracy: 0.8301\n",
            "Epoch 6/50\n",
            "625/625 [==============================] - 34s 55ms/step - loss: 0.2968 - accuracy: 0.8688 - val_loss: 0.3775 - val_accuracy: 0.8308\n",
            "Epoch 7/50\n",
            "625/625 [==============================] - 35s 56ms/step - loss: 0.2861 - accuracy: 0.8727 - val_loss: 0.3821 - val_accuracy: 0.8338\n",
            "Epoch 8/50\n",
            "625/625 [==============================] - 35s 55ms/step - loss: 0.2785 - accuracy: 0.8785 - val_loss: 0.3884 - val_accuracy: 0.8262\n",
            "Epoch 9/50\n",
            "625/625 [==============================] - 34s 55ms/step - loss: 0.2721 - accuracy: 0.8826 - val_loss: 0.4079 - val_accuracy: 0.8217\n",
            "Epoch 10/50\n",
            "625/625 [==============================] - 34s 55ms/step - loss: 0.2657 - accuracy: 0.8838 - val_loss: 0.4081 - val_accuracy: 0.8190\n",
            "Epoch 11/50\n",
            "625/625 [==============================] - 34s 55ms/step - loss: 0.2565 - accuracy: 0.8880 - val_loss: 0.4044 - val_accuracy: 0.8237\n",
            "Epoch 12/50\n",
            "625/625 [==============================] - 35s 55ms/step - loss: 0.2486 - accuracy: 0.8920 - val_loss: 0.4223 - val_accuracy: 0.8234\n",
            "Epoch 13/50\n",
            "625/625 [==============================] - 34s 55ms/step - loss: 0.2403 - accuracy: 0.8965 - val_loss: 0.4328 - val_accuracy: 0.8253\n",
            "Epoch 14/50\n",
            "625/625 [==============================] - 33s 53ms/step - loss: 0.2360 - accuracy: 0.8975 - val_loss: 0.4509 - val_accuracy: 0.8235\n",
            "Epoch 15/50\n",
            "625/625 [==============================] - 34s 54ms/step - loss: 0.2260 - accuracy: 0.9051 - val_loss: 0.4477 - val_accuracy: 0.8231\n",
            "Epoch 16/50\n",
            "625/625 [==============================] - 34s 54ms/step - loss: 0.2182 - accuracy: 0.9085 - val_loss: 0.4848 - val_accuracy: 0.8234\n",
            "Epoch 17/50\n",
            "625/625 [==============================] - 34s 54ms/step - loss: 0.2122 - accuracy: 0.9117 - val_loss: 0.4638 - val_accuracy: 0.8207\n",
            "Epoch 18/50\n",
            "625/625 [==============================] - 34s 54ms/step - loss: 0.2053 - accuracy: 0.9136 - val_loss: 0.4902 - val_accuracy: 0.8214\n",
            "Epoch 19/50\n",
            "625/625 [==============================] - 34s 54ms/step - loss: 0.1962 - accuracy: 0.9184 - val_loss: 0.5007 - val_accuracy: 0.8167\n",
            "Epoch 20/50\n",
            "625/625 [==============================] - 33s 54ms/step - loss: 0.1899 - accuracy: 0.9206 - val_loss: 0.5428 - val_accuracy: 0.8144\n",
            "Epoch 21/50\n",
            "625/625 [==============================] - 34s 54ms/step - loss: 0.1819 - accuracy: 0.9252 - val_loss: 0.5753 - val_accuracy: 0.8155\n",
            "Epoch 22/50\n",
            "625/625 [==============================] - 34s 54ms/step - loss: 0.1750 - accuracy: 0.9268 - val_loss: 0.5672 - val_accuracy: 0.8153\n",
            "Epoch 23/50\n",
            "625/625 [==============================] - 34s 54ms/step - loss: 0.1657 - accuracy: 0.9304 - val_loss: 0.6495 - val_accuracy: 0.8135\n",
            "Epoch 24/50\n",
            "625/625 [==============================] - 34s 54ms/step - loss: 0.1646 - accuracy: 0.9313 - val_loss: 0.6325 - val_accuracy: 0.8117\n",
            "Epoch 25/50\n",
            "625/625 [==============================] - 33s 54ms/step - loss: 0.1539 - accuracy: 0.9364 - val_loss: 0.7172 - val_accuracy: 0.8109\n",
            "Epoch 26/50\n",
            "625/625 [==============================] - 34s 54ms/step - loss: 0.1471 - accuracy: 0.9392 - val_loss: 0.7348 - val_accuracy: 0.8097\n",
            "Epoch 27/50\n",
            "625/625 [==============================] - 33s 54ms/step - loss: 0.1433 - accuracy: 0.9407 - val_loss: 0.7008 - val_accuracy: 0.8073\n",
            "Epoch 28/50\n",
            "625/625 [==============================] - 33s 53ms/step - loss: 0.1356 - accuracy: 0.9438 - val_loss: 0.8144 - val_accuracy: 0.7991\n",
            "Epoch 29/50\n",
            "625/625 [==============================] - 33s 53ms/step - loss: 0.1292 - accuracy: 0.9467 - val_loss: 0.8330 - val_accuracy: 0.8083\n",
            "Epoch 30/50\n",
            "625/625 [==============================] - 33s 54ms/step - loss: 0.1219 - accuracy: 0.9483 - val_loss: 0.8943 - val_accuracy: 0.8041\n",
            "Epoch 31/50\n",
            "625/625 [==============================] - 34s 54ms/step - loss: 0.1169 - accuracy: 0.9510 - val_loss: 0.9133 - val_accuracy: 0.7971\n",
            "Epoch 32/50\n",
            "625/625 [==============================] - 34s 54ms/step - loss: 0.1153 - accuracy: 0.9528 - val_loss: 1.0225 - val_accuracy: 0.8022\n",
            "Epoch 33/50\n",
            "625/625 [==============================] - 34s 55ms/step - loss: 0.1123 - accuracy: 0.9528 - val_loss: 0.9177 - val_accuracy: 0.8059\n",
            "Epoch 34/50\n",
            "625/625 [==============================] - 34s 55ms/step - loss: 0.1020 - accuracy: 0.9569 - val_loss: 1.1050 - val_accuracy: 0.7948\n",
            "Epoch 35/50\n",
            "625/625 [==============================] - 34s 55ms/step - loss: 0.0984 - accuracy: 0.9597 - val_loss: 1.0763 - val_accuracy: 0.8025\n",
            "Epoch 36/50\n",
            "625/625 [==============================] - 34s 54ms/step - loss: 0.0931 - accuracy: 0.9617 - val_loss: 1.1603 - val_accuracy: 0.7979\n",
            "Epoch 37/50\n",
            "625/625 [==============================] - 34s 54ms/step - loss: 0.0945 - accuracy: 0.9611 - val_loss: 1.2423 - val_accuracy: 0.7995\n",
            "Epoch 38/50\n",
            "625/625 [==============================] - 34s 54ms/step - loss: 0.0903 - accuracy: 0.9621 - val_loss: 1.2521 - val_accuracy: 0.7937\n",
            "Epoch 39/50\n",
            "625/625 [==============================] - 35s 56ms/step - loss: 0.0847 - accuracy: 0.9641 - val_loss: 1.2421 - val_accuracy: 0.7961\n",
            "Epoch 40/50\n",
            "625/625 [==============================] - 34s 55ms/step - loss: 0.0812 - accuracy: 0.9667 - val_loss: 1.2881 - val_accuracy: 0.8001\n",
            "Epoch 41/50\n",
            "625/625 [==============================] - 34s 54ms/step - loss: 0.0823 - accuracy: 0.9651 - val_loss: 1.3642 - val_accuracy: 0.7949\n",
            "Epoch 42/50\n",
            "625/625 [==============================] - 34s 54ms/step - loss: 0.0732 - accuracy: 0.9692 - val_loss: 1.3356 - val_accuracy: 0.7991\n",
            "Epoch 43/50\n",
            "625/625 [==============================] - 34s 54ms/step - loss: 0.0726 - accuracy: 0.9686 - val_loss: 1.4384 - val_accuracy: 0.7951\n",
            "Epoch 44/50\n",
            "625/625 [==============================] - 35s 55ms/step - loss: 0.0668 - accuracy: 0.9717 - val_loss: 1.5562 - val_accuracy: 0.7965\n",
            "Epoch 45/50\n",
            "625/625 [==============================] - 35s 56ms/step - loss: 0.0650 - accuracy: 0.9722 - val_loss: 1.5215 - val_accuracy: 0.7953\n",
            "Epoch 46/50\n",
            "625/625 [==============================] - 34s 55ms/step - loss: 0.0678 - accuracy: 0.9707 - val_loss: 1.5168 - val_accuracy: 0.7986\n",
            "Epoch 47/50\n",
            "625/625 [==============================] - 34s 55ms/step - loss: 0.0653 - accuracy: 0.9717 - val_loss: 1.6227 - val_accuracy: 0.7986\n",
            "Epoch 48/50\n",
            "625/625 [==============================] - 34s 54ms/step - loss: 0.0643 - accuracy: 0.9722 - val_loss: 1.5826 - val_accuracy: 0.7986\n",
            "Epoch 49/50\n",
            "625/625 [==============================] - 34s 55ms/step - loss: 0.0618 - accuracy: 0.9745 - val_loss: 1.5722 - val_accuracy: 0.7946\n",
            "Epoch 50/50\n",
            "625/625 [==============================] - 34s 55ms/step - loss: 0.0625 - accuracy: 0.9735 - val_loss: 1.5921 - val_accuracy: 0.7927\n"
          ],
          "name": "stdout"
        }
      ]
    },
    {
      "cell_type": "code",
      "metadata": {
        "id": "MKuLlCRetMsf",
        "colab_type": "code",
        "colab": {}
      },
      "source": [
        "model.save(\"Sarcasm-50E.h5\")"
      ],
      "execution_count": 0,
      "outputs": []
    }
  ]
}