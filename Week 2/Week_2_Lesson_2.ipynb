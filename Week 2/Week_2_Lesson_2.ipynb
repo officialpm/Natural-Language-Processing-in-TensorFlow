{
  "nbformat": 4,
  "nbformat_minor": 0,
  "metadata": {
    "accelerator": "GPU",
    "colab": {
      "name": "Week 2 - Lesson 2.ipynb",
      "provenance": [],
      "collapsed_sections": [],
      "toc_visible": true
    },
    "kernelspec": {
      "display_name": "Python 3",
      "name": "python3"
    }
  },
  "cells": [
    {
      "cell_type": "markdown",
      "metadata": {
        "id": "6XFrmh8p_veR",
        "colab_type": "text"
      },
      "source": [
        "<img src=\"https://simpleicons.org/icons/github.svg\" width=\"30\" height=\"30\" /> Github Repo\n",
        "\n",
        "https://github.com/officialpm/Natural-Language-Processing-in-TensorFlow/"
      ]
    },
    {
      "cell_type": "code",
      "metadata": {
        "colab_type": "code",
        "id": "4gs9htvM7n_x",
        "colab": {}
      },
      "source": [
        "# Run this to ensure TensorFlow 2.x is used\n",
        "try:\n",
        "  # %tensorflow_version only exists in Colab.\n",
        "  %tensorflow_version 2.x\n",
        "except Exception:\n",
        "  pass"
      ],
      "execution_count": 0,
      "outputs": []
    },
    {
      "cell_type": "code",
      "metadata": {
        "colab_type": "code",
        "id": "XYYDvoskkE61",
        "colab": {}
      },
      "source": [
        "import json\n",
        "import tensorflow as tf\n",
        "\n",
        "from tensorflow.keras.preprocessing.text import Tokenizer\n",
        "from tensorflow.keras.preprocessing.sequence import pad_sequences"
      ],
      "execution_count": 0,
      "outputs": []
    },
    {
      "cell_type": "code",
      "metadata": {
        "colab_type": "code",
        "id": "0eJSTTYnkJQd",
        "colab": {}
      },
      "source": [
        "vocab_size = 10000\n",
        "embedding_dim = 16\n",
        "max_length = 100\n",
        "trunc_type='post'\n",
        "padding_type='post'\n",
        "oov_tok = \"<OOV>\"\n",
        "training_size = 20000\n"
      ],
      "execution_count": 0,
      "outputs": []
    },
    {
      "cell_type": "code",
      "metadata": {
        "colab_type": "code",
        "id": "BQVuQrZNkPn9",
        "colab": {
          "base_uri": "https://localhost:8080/",
          "height": 321
        },
        "outputId": "d822a6a9-8b54-4e1f-f9d9-799b6c701f55"
      },
      "source": [
        "!wget --no-check-certificate \\\n",
        "   https://github.com/officialpm/Natural-Language-Processing-in-TensorFlow/raw/master/Week%202/Sarcasm%20Classifier/sarcasm-Full.json \\\n",
        "    -O sarcasm.json\n"
      ],
      "execution_count": 4,
      "outputs": [
        {
          "output_type": "stream",
          "text": [
            "--2020-05-13 11:51:06--  https://github.com/officialpm/Natural-Language-Processing-in-TensorFlow/raw/master/Week%202/Sarcasm%20Classifier/sarcasm-Full.json\n",
            "Resolving github.com (github.com)... 140.82.113.3\n",
            "Connecting to github.com (github.com)|140.82.113.3|:443... connected.\n",
            "HTTP request sent, awaiting response... 302 Found\n",
            "Location: https://raw.githubusercontent.com/officialpm/Natural-Language-Processing-in-TensorFlow/master/Week%202/Sarcasm%20Classifier/sarcasm-Full.json [following]\n",
            "--2020-05-13 11:51:07--  https://raw.githubusercontent.com/officialpm/Natural-Language-Processing-in-TensorFlow/master/Week%202/Sarcasm%20Classifier/sarcasm-Full.json\n",
            "Resolving raw.githubusercontent.com (raw.githubusercontent.com)... 151.101.0.133, 151.101.64.133, 151.101.128.133, ...\n",
            "Connecting to raw.githubusercontent.com (raw.githubusercontent.com)|151.101.0.133|:443... connected.\n",
            "HTTP request sent, awaiting response... 200 OK\n",
            "Length: 5616834 (5.4M) [text/plain]\n",
            "Saving to: ‘sarcasm.json’\n",
            "\n",
            "sarcasm.json        100%[===================>]   5.36M  19.9MB/s    in 0.3s    \n",
            "\n",
            "2020-05-13 11:51:08 (19.9 MB/s) - ‘sarcasm.json’ saved [5616834/5616834]\n",
            "\n"
          ],
          "name": "stdout"
        }
      ]
    },
    {
      "cell_type": "code",
      "metadata": {
        "colab_type": "code",
        "id": "oaLaaqhNkUPd",
        "colab": {}
      },
      "source": [
        "with open(\"sarcasm.json\", 'r') as f:\n",
        "    datastore = json.load(f)\n",
        "\n",
        "sentences = []\n",
        "labels = []\n",
        "\n",
        "for item in datastore:\n",
        "    sentences.append(item['headline'])\n",
        "    labels.append(item['is_sarcastic'])"
      ],
      "execution_count": 0,
      "outputs": []
    },
    {
      "cell_type": "code",
      "metadata": {
        "colab_type": "code",
        "id": "S1sD-7v0kYWk",
        "colab": {}
      },
      "source": [
        "training_sentences = sentences[0:training_size]\n",
        "testing_sentences = sentences[training_size:]\n",
        "training_labels = labels[0:training_size]\n",
        "testing_labels = labels[training_size:]"
      ],
      "execution_count": 0,
      "outputs": []
    },
    {
      "cell_type": "code",
      "metadata": {
        "colab_type": "code",
        "id": "3u8UB0MCkZ5N",
        "colab": {}
      },
      "source": [
        "tokenizer = Tokenizer(num_words=vocab_size, oov_token=oov_tok)\n",
        "tokenizer.fit_on_texts(training_sentences)\n",
        "\n",
        "word_index = tokenizer.word_index\n",
        "\n",
        "training_sequences = tokenizer.texts_to_sequences(training_sentences)\n",
        "training_padded = pad_sequences(training_sequences, maxlen=max_length, padding=padding_type, truncating=trunc_type)\n",
        "\n",
        "testing_sequences = tokenizer.texts_to_sequences(testing_sentences)\n",
        "testing_padded = pad_sequences(testing_sequences, maxlen=max_length, padding=padding_type, truncating=trunc_type)"
      ],
      "execution_count": 0,
      "outputs": []
    },
    {
      "cell_type": "code",
      "metadata": {
        "colab_type": "code",
        "id": "GrAlWBKf99Ya",
        "colab": {}
      },
      "source": [
        "# Need this block to get it to work with TensorFlow 2.x\n",
        "import numpy as np\n",
        "training_padded = np.array(training_padded)\n",
        "training_labels = np.array(training_labels)\n",
        "testing_padded = np.array(testing_padded)\n",
        "testing_labels = np.array(testing_labels)"
      ],
      "execution_count": 0,
      "outputs": []
    },
    {
      "cell_type": "code",
      "metadata": {
        "colab_type": "code",
        "id": "FufaT4vlkiDE",
        "colab": {}
      },
      "source": [
        "# del model\n",
        "model = tf.keras.Sequential([\n",
        "    tf.keras.layers.Embedding(vocab_size, embedding_dim, input_length=max_length),\n",
        "    tf.keras.layers.GlobalAveragePooling1D(),\n",
        "    tf.keras.layers.Dense(24, activation='relu'),\n",
        "    tf.keras.layers.Dense(1, activation='sigmoid')\n",
        "])\n",
        "model.compile(loss='binary_crossentropy',optimizer='adam',metrics=['accuracy'])"
      ],
      "execution_count": 0,
      "outputs": []
    },
    {
      "cell_type": "code",
      "metadata": {
        "colab_type": "code",
        "id": "XfDt1hmYkiys",
        "colab": {
          "base_uri": "https://localhost:8080/",
          "height": 301
        },
        "outputId": "49f7db67-2e0f-494a-c758-a50594521d38"
      },
      "source": [
        "model.summary()\n"
      ],
      "execution_count": 19,
      "outputs": [
        {
          "output_type": "stream",
          "text": [
            "Model: \"sequential_1\"\n",
            "_________________________________________________________________\n",
            "Layer (type)                 Output Shape              Param #   \n",
            "=================================================================\n",
            "embedding_1 (Embedding)      (None, 100, 16)           160000    \n",
            "_________________________________________________________________\n",
            "global_average_pooling1d_1 ( (None, 16)                0         \n",
            "_________________________________________________________________\n",
            "dense_2 (Dense)              (None, 24)                408       \n",
            "_________________________________________________________________\n",
            "dense_3 (Dense)              (None, 1)                 25        \n",
            "=================================================================\n",
            "Total params: 160,433\n",
            "Trainable params: 160,433\n",
            "Non-trainable params: 0\n",
            "_________________________________________________________________\n"
          ],
          "name": "stdout"
        }
      ]
    },
    {
      "cell_type": "code",
      "metadata": {
        "colab_type": "code",
        "id": "2DTKQFf1kkyc",
        "colab": {
          "base_uri": "https://localhost:8080/",
          "height": 1000
        },
        "outputId": "7a52273f-6e7f-4c2b-8982-3171fb092ba7"
      },
      "source": [
        "num_epochs = 30\n",
        "history = model.fit(training_padded, training_labels, epochs=num_epochs, validation_data=(testing_padded, testing_labels), verbose=2)"
      ],
      "execution_count": 20,
      "outputs": [
        {
          "output_type": "stream",
          "text": [
            "Epoch 1/30\n",
            "625/625 - 3s - loss: 0.6578 - accuracy: 0.5974 - val_loss: 0.5572 - val_accuracy: 0.7739\n",
            "Epoch 2/30\n",
            "625/625 - 3s - loss: 0.4195 - accuracy: 0.8353 - val_loss: 0.3901 - val_accuracy: 0.8311\n",
            "Epoch 3/30\n",
            "625/625 - 3s - loss: 0.3043 - accuracy: 0.8824 - val_loss: 0.3547 - val_accuracy: 0.8515\n",
            "Epoch 4/30\n",
            "625/625 - 3s - loss: 0.2530 - accuracy: 0.9021 - val_loss: 0.3427 - val_accuracy: 0.8560\n",
            "Epoch 5/30\n",
            "625/625 - 3s - loss: 0.2174 - accuracy: 0.9163 - val_loss: 0.3454 - val_accuracy: 0.8557\n",
            "Epoch 6/30\n",
            "625/625 - 3s - loss: 0.1888 - accuracy: 0.9300 - val_loss: 0.3541 - val_accuracy: 0.8545\n",
            "Epoch 7/30\n",
            "625/625 - 3s - loss: 0.1671 - accuracy: 0.9376 - val_loss: 0.3686 - val_accuracy: 0.8556\n",
            "Epoch 8/30\n",
            "625/625 - 3s - loss: 0.1510 - accuracy: 0.9440 - val_loss: 0.3863 - val_accuracy: 0.8553\n",
            "Epoch 9/30\n",
            "625/625 - 3s - loss: 0.1346 - accuracy: 0.9524 - val_loss: 0.4039 - val_accuracy: 0.8532\n",
            "Epoch 10/30\n",
            "625/625 - 3s - loss: 0.1209 - accuracy: 0.9592 - val_loss: 0.4603 - val_accuracy: 0.8328\n",
            "Epoch 11/30\n",
            "625/625 - 3s - loss: 0.1095 - accuracy: 0.9621 - val_loss: 0.4579 - val_accuracy: 0.8432\n",
            "Epoch 12/30\n",
            "625/625 - 3s - loss: 0.1007 - accuracy: 0.9656 - val_loss: 0.5043 - val_accuracy: 0.8359\n",
            "Epoch 13/30\n",
            "625/625 - 3s - loss: 0.0905 - accuracy: 0.9692 - val_loss: 0.5162 - val_accuracy: 0.8384\n",
            "Epoch 14/30\n",
            "625/625 - 3s - loss: 0.0846 - accuracy: 0.9723 - val_loss: 0.5345 - val_accuracy: 0.8387\n",
            "Epoch 15/30\n",
            "625/625 - 3s - loss: 0.0775 - accuracy: 0.9750 - val_loss: 0.5668 - val_accuracy: 0.8365\n",
            "Epoch 16/30\n",
            "625/625 - 3s - loss: 0.0705 - accuracy: 0.9771 - val_loss: 0.5949 - val_accuracy: 0.8340\n",
            "Epoch 17/30\n",
            "625/625 - 3s - loss: 0.0679 - accuracy: 0.9776 - val_loss: 0.6475 - val_accuracy: 0.8319\n",
            "Epoch 18/30\n",
            "625/625 - 3s - loss: 0.0607 - accuracy: 0.9809 - val_loss: 0.6577 - val_accuracy: 0.8290\n",
            "Epoch 19/30\n",
            "625/625 - 3s - loss: 0.0556 - accuracy: 0.9822 - val_loss: 0.6922 - val_accuracy: 0.8235\n",
            "Epoch 20/30\n",
            "625/625 - 3s - loss: 0.0500 - accuracy: 0.9847 - val_loss: 0.7336 - val_accuracy: 0.8262\n",
            "Epoch 21/30\n",
            "625/625 - 3s - loss: 0.0471 - accuracy: 0.9857 - val_loss: 0.7582 - val_accuracy: 0.8228\n",
            "Epoch 22/30\n",
            "625/625 - 3s - loss: 0.0429 - accuracy: 0.9871 - val_loss: 0.8158 - val_accuracy: 0.8219\n",
            "Epoch 23/30\n",
            "625/625 - 3s - loss: 0.0399 - accuracy: 0.9883 - val_loss: 0.8627 - val_accuracy: 0.8189\n",
            "Epoch 24/30\n",
            "625/625 - 3s - loss: 0.0376 - accuracy: 0.9886 - val_loss: 0.8676 - val_accuracy: 0.8155\n",
            "Epoch 25/30\n",
            "625/625 - 4s - loss: 0.0333 - accuracy: 0.9914 - val_loss: 0.9034 - val_accuracy: 0.8158\n",
            "Epoch 26/30\n",
            "625/625 - 4s - loss: 0.0315 - accuracy: 0.9910 - val_loss: 0.9911 - val_accuracy: 0.8150\n",
            "Epoch 27/30\n",
            "625/625 - 4s - loss: 0.0290 - accuracy: 0.9913 - val_loss: 0.9796 - val_accuracy: 0.8143\n",
            "Epoch 28/30\n",
            "625/625 - 3s - loss: 0.0264 - accuracy: 0.9929 - val_loss: 1.1119 - val_accuracy: 0.8132\n",
            "Epoch 29/30\n",
            "625/625 - 3s - loss: 0.0247 - accuracy: 0.9929 - val_loss: 1.0486 - val_accuracy: 0.8123\n",
            "Epoch 30/30\n",
            "625/625 - 3s - loss: 0.0228 - accuracy: 0.9940 - val_loss: 1.1004 - val_accuracy: 0.8117\n"
          ],
          "name": "stdout"
        }
      ]
    },
    {
      "cell_type": "code",
      "metadata": {
        "colab_type": "code",
        "id": "2HYfBKXjkmU8",
        "colab": {
          "base_uri": "https://localhost:8080/",
          "height": 541
        },
        "outputId": "f20403a7-1db8-41b1-d4ad-57080c3d9e0b"
      },
      "source": [
        "import matplotlib.pyplot as plt\n",
        "\n",
        "\n",
        "def plot_graphs(history, string):\n",
        "  plt.plot(history.history[string])\n",
        "  plt.plot(history.history['val_'+string])\n",
        "  plt.xlabel(\"Epochs\")\n",
        "  plt.ylabel(string)\n",
        "  plt.legend([string, 'val_'+string])\n",
        "  plt.show()\n",
        "  \n",
        "plot_graphs(history, \"accuracy\")\n",
        "plot_graphs(history, \"loss\")"
      ],
      "execution_count": 21,
      "outputs": [
        {
          "output_type": "display_data",
          "data": {
            "image/png": "[encoded data removed]",
            "text/plain": [
              "<Figure size 432x288 with 1 Axes>"
            ]
          },
          "metadata": {
            "tags": [],
            "needs_background": "light"
          }
        },
        {
          "output_type": "display_data",
          "data": {
            "image/png": "[encoded data removed]",
            "text/plain": [
              "<Figure size 432x288 with 1 Axes>"
            ]
          },
          "metadata": {
            "tags": [],
            "needs_background": "light"
          }
        }
      ]
    },
    {
      "cell_type": "code",
      "metadata": {
        "colab_type": "code",
        "id": "7SBdAZAenvzL",
        "colab": {
          "base_uri": "https://localhost:8080/",
          "height": 90
        },
        "outputId": "9b5f18b6-d2e0-40df-9dc4-03c433e2ec5a"
      },
      "source": [
        "reverse_word_index = dict([(value, key) for (key, value) in word_index.items()])\n",
        "\n",
        "def decode_sentence(text):\n",
        "    return ' '.join([reverse_word_index.get(i, '?') for i in text])\n",
        "\n",
        "print(decode_sentence(training_padded[0]))\n",
        "print(training_sentences[2])\n",
        "print(labels[2])"
      ],
      "execution_count": 22,
      "outputs": [
        {
          "output_type": "stream",
          "text": [
            "former <OOV> store clerk sues over secret 'black <OOV> for minority shoppers ? ? ? ? ? ? ? ? ? ? ? ? ? ? ? ? ? ? ? ? ? ? ? ? ? ? ? ? ? ? ? ? ? ? ? ? ? ? ? ? ? ? ? ? ? ? ? ? ? ? ? ? ? ? ? ? ? ? ? ? ? ? ? ? ? ? ? ? ? ? ? ? ? ? ? ? ? ? ? ? ? ? ? ? ? ? ? ?\n",
            "mom starting to fear son's web series closest thing she will have to grandchild\n",
            "1\n"
          ],
          "name": "stdout"
        }
      ]
    },
    {
      "cell_type": "code",
      "metadata": {
        "colab_type": "code",
        "id": "c9MqihtEkzQ9",
        "colab": {
          "base_uri": "https://localhost:8080/",
          "height": 34
        },
        "outputId": "337bf30e-d64b-4589-c598-3f593f0c7549"
      },
      "source": [
        "e = model.layers[0]\n",
        "weights = e.get_weights()[0]\n",
        "print(weights.shape) # shape: (vocab_size, embedding_dim)\n"
      ],
      "execution_count": 23,
      "outputs": [
        {
          "output_type": "stream",
          "text": [
            "(10000, 16)\n"
          ],
          "name": "stdout"
        }
      ]
    },
    {
      "cell_type": "code",
      "metadata": {
        "colab_type": "code",
        "id": "LoBXVffknldU",
        "colab": {}
      },
      "source": [
        "import io\n",
        "\n",
        "out_v = io.open('vecs.tsv', 'w', encoding='utf-8')\n",
        "out_m = io.open('meta.tsv', 'w', encoding='utf-8')\n",
        "for word_num in range(1, vocab_size):\n",
        "  word = reverse_word_index[word_num]\n",
        "  embeddings = weights[word_num]\n",
        "  out_m.write(word + \"\\n\")\n",
        "  out_v.write('\\t'.join([str(x) for x in embeddings]) + \"\\n\")\n",
        "out_v.close()\n",
        "out_m.close()"
      ],
      "execution_count": 0,
      "outputs": []
    },
    {
      "cell_type": "code",
      "metadata": {
        "colab_type": "code",
        "id": "cG8-ArY-qDcz",
        "colab": {
          "base_uri": "https://localhost:8080/",
          "height": 52
        },
        "outputId": "3e2ed61e-a9c9-4abe-d43a-57276315b904"
      },
      "source": [
        "sentence = [\"granny starting to fear spiders in the garden might be real\", \"game of thrones season finale showing this sunday night\"]\n",
        "sequences = tokenizer.texts_to_sequences(sentence)\n",
        "padded = pad_sequences(sequences, maxlen=max_length, padding=padding_type, truncating=trunc_type)\n",
        "print(model.predict(padded))"
      ],
      "execution_count": 25,
      "outputs": [
        {
          "output_type": "stream",
          "text": [
            "[[9.2614895e-01]\n",
            " [6.1806172e-06]]\n"
          ],
          "name": "stdout"
        }
      ]
    },
    {
      "cell_type": "code",
      "metadata": {
        "id": "XAOiNyN0z3I8",
        "colab_type": "code",
        "colab": {}
      },
      "source": [
        "model.save(\"Sarcasm-Classifier.h5\")"
      ],
      "execution_count": 0,
      "outputs": []
    }
  ]
}