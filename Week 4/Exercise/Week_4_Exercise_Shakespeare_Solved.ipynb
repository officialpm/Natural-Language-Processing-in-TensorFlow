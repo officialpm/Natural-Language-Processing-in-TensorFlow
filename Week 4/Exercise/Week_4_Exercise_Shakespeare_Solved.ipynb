{
  "nbformat": 4,
  "nbformat_minor": 0,
  "metadata": {
    "accelerator": "GPU",
    "colab": {
      "name": "Week 4 Exercise Shakespeare Solved.ipynb",
      "provenance": [],
      "toc_visible": true
    },
    "kernelspec": {
      "display_name": "Python 3",
      "name": "python3"
    }
  },
  "cells": [
    {
      "cell_type": "markdown",
      "metadata": {
        "id": "6XFrmh8p_veR",
        "colab_type": "text"
      },
      "source": [
        "<img src=\"https://simpleicons.org/icons/github.svg\" width=\"30\" height=\"30\" /> Github Repo\n",
        "\n",
        "https://github.com/officialpm/Natural-Language-Processing-in-TensorFlow/"
      ]
    },
    {
      "cell_type": "code",
      "metadata": {
        "colab_type": "code",
        "id": "BOwsuGQQY9OL",
        "colab": {}
      },
      "source": [
        "from tensorflow.keras.preprocessing.sequence import pad_sequences\n",
        "from tensorflow.keras.layers import Embedding, LSTM, Dense, Dropout, Bidirectional\n",
        "from tensorflow.keras.preprocessing.text import Tokenizer\n",
        "from tensorflow.keras.models import Sequential\n",
        "from tensorflow.keras.optimizers import Adam\n",
        "from tensorflow.keras import regularizers\n",
        "import tensorflow.keras.utils as ku \n",
        "import numpy as np "
      ],
      "execution_count": 0,
      "outputs": []
    },
    {
      "cell_type": "code",
      "metadata": {
        "id": "TSIlDnZqsvAi",
        "colab_type": "code",
        "colab": {
          "base_uri": "https://localhost:8080/",
          "height": 321
        },
        "outputId": "934b1b3d-897c-4519-f7ca-35aee831f3a0"
      },
      "source": [
        "tokenizer = Tokenizer()\n",
        "!wget --no-check-certificate \\\n",
        "    https://github.com/officialpm/Natural-Language-Processing-in-TensorFlow/raw/master/Week%204/Exercise/sonnets.txt \\\n",
        "    -O sonnets.txt\n",
        "data = open('sonnets.txt').read()"
      ],
      "execution_count": 4,
      "outputs": [
        {
          "output_type": "stream",
          "text": [
            "--2020-05-15 09:45:22--  https://github.com/officialpm/Natural-Language-Processing-in-TensorFlow/raw/master/Week%204/Exercise/sonnets.txt\n",
            "Resolving github.com (github.com)... 140.82.112.4\n",
            "Connecting to github.com (github.com)|140.82.112.4|:443... connected.\n",
            "HTTP request sent, awaiting response... 302 Found\n",
            "Location: https://raw.githubusercontent.com/officialpm/Natural-Language-Processing-in-TensorFlow/master/Week%204/Exercise/sonnets.txt [following]\n",
            "--2020-05-15 09:45:22--  https://raw.githubusercontent.com/officialpm/Natural-Language-Processing-in-TensorFlow/master/Week%204/Exercise/sonnets.txt\n",
            "Resolving raw.githubusercontent.com (raw.githubusercontent.com)... 151.101.0.133, 151.101.64.133, 151.101.128.133, ...\n",
            "Connecting to raw.githubusercontent.com (raw.githubusercontent.com)|151.101.0.133|:443... connected.\n",
            "HTTP request sent, awaiting response... 200 OK\n",
            "Length: 93578 (91K) [text/plain]\n",
            "Saving to: ‘sonnets.txt’\n",
            "\n",
            "sonnets.txt         100%[===================>]  91.38K  --.-KB/s    in 0.03s   \n",
            "\n",
            "2020-05-15 09:45:23 (2.84 MB/s) - ‘sonnets.txt’ saved [93578/93578]\n",
            "\n"
          ],
          "name": "stdout"
        }
      ]
    },
    {
      "cell_type": "code",
      "metadata": {
        "colab_type": "code",
        "id": "PRnDnCW-Z7qv",
        "colab": {}
      },
      "source": [
        "corpus = data.lower().split(\"\\n\")\n",
        "\n",
        "\n",
        "tokenizer.fit_on_texts(corpus)\n",
        "total_words = len(tokenizer.word_index) + 1\n",
        "\n",
        "input_sequences = []\n",
        "for line in corpus:\n",
        "\ttoken_list = tokenizer.texts_to_sequences([line])[0]\n",
        "\tfor i in range(1, len(token_list)):\n",
        "\t\tn_gram_sequence = token_list[:i+1]\n",
        "\t\tinput_sequences.append(n_gram_sequence)\n",
        "\n",
        "\n",
        "max_sequence_len = max([len(x) for x in input_sequences])\n",
        "input_sequences = np.array(pad_sequences(input_sequences, maxlen=max_sequence_len, padding='pre'))\n",
        "\n",
        "\n",
        "predictors, label = input_sequences[:,:-1],input_sequences[:,-1]\n",
        "\n",
        "label = ku.to_categorical(label, num_classes=total_words)"
      ],
      "execution_count": 0,
      "outputs": []
    },
    {
      "cell_type": "code",
      "metadata": {
        "colab_type": "code",
        "id": "w9vH8Y59ajYL",
        "colab": {
          "base_uri": "https://localhost:8080/",
          "height": 390
        },
        "outputId": "cdf3c4a4-f9e5-480c-a52d-8460272a000c"
      },
      "source": [
        "model = Sequential()\n",
        "model.add(Embedding(total_words, 100, input_length=max_sequence_len-1))\n",
        "model.add(Bidirectional(LSTM(150, return_sequences = True)))\n",
        "model.add(Dropout(0.2))\n",
        "model.add(LSTM(100))\n",
        "model.add(Dense(total_words/2, activation='relu', kernel_regularizer=regularizers.l2(0.01)))\n",
        "model.add(Dense(total_words, activation='softmax'))\n",
        "model.compile(loss='categorical_crossentropy', optimizer='adam', metrics=['accuracy'])\n",
        "print(model.summary())\n"
      ],
      "execution_count": 6,
      "outputs": [
        {
          "output_type": "stream",
          "text": [
            "Model: \"sequential\"\n",
            "_________________________________________________________________\n",
            "Layer (type)                 Output Shape              Param #   \n",
            "=================================================================\n",
            "embedding (Embedding)        (None, 10, 100)           321100    \n",
            "_________________________________________________________________\n",
            "bidirectional (Bidirectional (None, 10, 300)           301200    \n",
            "_________________________________________________________________\n",
            "dropout (Dropout)            (None, 10, 300)           0         \n",
            "_________________________________________________________________\n",
            "lstm_1 (LSTM)                (None, 100)               160400    \n",
            "_________________________________________________________________\n",
            "dense (Dense)                (None, 1605)              162105    \n",
            "_________________________________________________________________\n",
            "dense_1 (Dense)              (None, 3211)              5156866   \n",
            "=================================================================\n",
            "Total params: 6,101,671\n",
            "Trainable params: 6,101,671\n",
            "Non-trainable params: 0\n",
            "_________________________________________________________________\n",
            "None\n"
          ],
          "name": "stdout"
        }
      ]
    },
    {
      "cell_type": "code",
      "metadata": {
        "colab_type": "code",
        "id": "AIg2f1HBxqof",
        "colab": {
          "base_uri": "https://localhost:8080/",
          "height": 1000
        },
        "outputId": "51b57561-5d50-4e83-fece-e429ba9d960f"
      },
      "source": [
        "history = model.fit(predictors, label, epochs=100, verbose=1)"
      ],
      "execution_count": 7,
      "outputs": [
        {
          "output_type": "stream",
          "text": [
            "Epoch 1/100\n",
            "484/484 [==============================] - 5s 10ms/step - loss: 6.8918 - accuracy: 0.0227\n",
            "Epoch 2/100\n",
            "484/484 [==============================] - 5s 10ms/step - loss: 6.5033 - accuracy: 0.0226\n",
            "Epoch 3/100\n",
            "484/484 [==============================] - 5s 10ms/step - loss: 6.3971 - accuracy: 0.0253\n",
            "Epoch 4/100\n",
            "484/484 [==============================] - 5s 10ms/step - loss: 6.2780 - accuracy: 0.0316\n",
            "Epoch 5/100\n",
            "484/484 [==============================] - 5s 10ms/step - loss: 6.1753 - accuracy: 0.0358\n",
            "Epoch 6/100\n",
            "484/484 [==============================] - 5s 10ms/step - loss: 6.0888 - accuracy: 0.0382\n",
            "Epoch 7/100\n",
            "484/484 [==============================] - 5s 10ms/step - loss: 5.9983 - accuracy: 0.0410\n",
            "Epoch 8/100\n",
            "484/484 [==============================] - 5s 10ms/step - loss: 5.9026 - accuracy: 0.0481\n",
            "Epoch 9/100\n",
            "484/484 [==============================] - 5s 10ms/step - loss: 5.7927 - accuracy: 0.0534\n",
            "Epoch 10/100\n",
            "484/484 [==============================] - 5s 10ms/step - loss: 5.6829 - accuracy: 0.0576\n",
            "Epoch 11/100\n",
            "484/484 [==============================] - 5s 10ms/step - loss: 5.5731 - accuracy: 0.0647\n",
            "Epoch 12/100\n",
            "484/484 [==============================] - 5s 10ms/step - loss: 5.4727 - accuracy: 0.0697\n",
            "Epoch 13/100\n",
            "484/484 [==============================] - 5s 11ms/step - loss: 5.3662 - accuracy: 0.0767\n",
            "Epoch 14/100\n",
            "484/484 [==============================] - 5s 11ms/step - loss: 5.2574 - accuracy: 0.0829\n",
            "Epoch 15/100\n",
            "484/484 [==============================] - 5s 10ms/step - loss: 5.1520 - accuracy: 0.0895\n",
            "Epoch 16/100\n",
            "484/484 [==============================] - 5s 10ms/step - loss: 5.0518 - accuracy: 0.0960\n",
            "Epoch 17/100\n",
            "484/484 [==============================] - 5s 10ms/step - loss: 4.9455 - accuracy: 0.1040\n",
            "Epoch 18/100\n",
            "484/484 [==============================] - 5s 10ms/step - loss: 4.8406 - accuracy: 0.1124\n",
            "Epoch 19/100\n",
            "484/484 [==============================] - 5s 10ms/step - loss: 4.7390 - accuracy: 0.1208\n",
            "Epoch 20/100\n",
            "484/484 [==============================] - 5s 10ms/step - loss: 4.6317 - accuracy: 0.1321\n",
            "Epoch 21/100\n",
            "484/484 [==============================] - 5s 10ms/step - loss: 4.5224 - accuracy: 0.1414\n",
            "Epoch 22/100\n",
            "484/484 [==============================] - 5s 10ms/step - loss: 4.4207 - accuracy: 0.1481\n",
            "Epoch 23/100\n",
            "484/484 [==============================] - 5s 10ms/step - loss: 4.3142 - accuracy: 0.1616\n",
            "Epoch 24/100\n",
            "484/484 [==============================] - 5s 10ms/step - loss: 4.2168 - accuracy: 0.1739\n",
            "Epoch 25/100\n",
            "484/484 [==============================] - 5s 11ms/step - loss: 4.1092 - accuracy: 0.1898\n",
            "Epoch 26/100\n",
            "484/484 [==============================] - 5s 11ms/step - loss: 4.0096 - accuracy: 0.2035\n",
            "Epoch 27/100\n",
            "484/484 [==============================] - 5s 10ms/step - loss: 3.9010 - accuracy: 0.2217\n",
            "Epoch 28/100\n",
            "484/484 [==============================] - 5s 10ms/step - loss: 3.8055 - accuracy: 0.2341\n",
            "Epoch 29/100\n",
            "484/484 [==============================] - 5s 11ms/step - loss: 3.7056 - accuracy: 0.2562\n",
            "Epoch 30/100\n",
            "484/484 [==============================] - 5s 11ms/step - loss: 3.6189 - accuracy: 0.2733\n",
            "Epoch 31/100\n",
            "484/484 [==============================] - 5s 11ms/step - loss: 3.5181 - accuracy: 0.2956\n",
            "Epoch 32/100\n",
            "484/484 [==============================] - 5s 11ms/step - loss: 3.4292 - accuracy: 0.3152\n",
            "Epoch 33/100\n",
            "484/484 [==============================] - 5s 11ms/step - loss: 3.3453 - accuracy: 0.3335\n",
            "Epoch 34/100\n",
            "484/484 [==============================] - 5s 11ms/step - loss: 3.2627 - accuracy: 0.3502\n",
            "Epoch 35/100\n",
            "484/484 [==============================] - 5s 11ms/step - loss: 3.1764 - accuracy: 0.3696\n",
            "Epoch 36/100\n",
            "484/484 [==============================] - 5s 11ms/step - loss: 3.0950 - accuracy: 0.3913\n",
            "Epoch 37/100\n",
            "484/484 [==============================] - 5s 11ms/step - loss: 3.0181 - accuracy: 0.4074\n",
            "Epoch 38/100\n",
            "484/484 [==============================] - 5s 11ms/step - loss: 2.9608 - accuracy: 0.4243\n",
            "Epoch 39/100\n",
            "484/484 [==============================] - 5s 11ms/step - loss: 2.8859 - accuracy: 0.4379\n",
            "Epoch 40/100\n",
            "484/484 [==============================] - 5s 10ms/step - loss: 2.8128 - accuracy: 0.4538\n",
            "Epoch 41/100\n",
            "484/484 [==============================] - 5s 11ms/step - loss: 2.7503 - accuracy: 0.4711\n",
            "Epoch 42/100\n",
            "484/484 [==============================] - 5s 11ms/step - loss: 2.6815 - accuracy: 0.4843\n",
            "Epoch 43/100\n",
            "484/484 [==============================] - 5s 11ms/step - loss: 2.6249 - accuracy: 0.4994\n",
            "Epoch 44/100\n",
            "484/484 [==============================] - 5s 11ms/step - loss: 2.5641 - accuracy: 0.5124\n",
            "Epoch 45/100\n",
            "484/484 [==============================] - 5s 11ms/step - loss: 2.5194 - accuracy: 0.5162\n",
            "Epoch 46/100\n",
            "484/484 [==============================] - 5s 11ms/step - loss: 2.4553 - accuracy: 0.5341\n",
            "Epoch 47/100\n",
            "484/484 [==============================] - 5s 10ms/step - loss: 2.4009 - accuracy: 0.5469\n",
            "Epoch 48/100\n",
            "484/484 [==============================] - 5s 10ms/step - loss: 2.3556 - accuracy: 0.5616\n",
            "Epoch 49/100\n",
            "484/484 [==============================] - 5s 10ms/step - loss: 2.3017 - accuracy: 0.5671\n",
            "Epoch 50/100\n",
            "484/484 [==============================] - 5s 10ms/step - loss: 2.2606 - accuracy: 0.5821\n",
            "Epoch 51/100\n",
            "484/484 [==============================] - 6s 12ms/step - loss: 2.2074 - accuracy: 0.5906\n",
            "Epoch 52/100\n",
            "484/484 [==============================] - 5s 11ms/step - loss: 2.1651 - accuracy: 0.6017\n",
            "Epoch 53/100\n",
            "484/484 [==============================] - 5s 11ms/step - loss: 2.1208 - accuracy: 0.6125\n",
            "Epoch 54/100\n",
            "484/484 [==============================] - 5s 11ms/step - loss: 2.0754 - accuracy: 0.6209\n",
            "Epoch 55/100\n",
            "484/484 [==============================] - 5s 11ms/step - loss: 2.0449 - accuracy: 0.6237\n",
            "Epoch 56/100\n",
            "484/484 [==============================] - 5s 11ms/step - loss: 2.0071 - accuracy: 0.6318\n",
            "Epoch 57/100\n",
            "484/484 [==============================] - 5s 11ms/step - loss: 1.9768 - accuracy: 0.6392\n",
            "Epoch 58/100\n",
            "484/484 [==============================] - 5s 11ms/step - loss: 1.9392 - accuracy: 0.6477\n",
            "Epoch 59/100\n",
            "484/484 [==============================] - 5s 11ms/step - loss: 1.8855 - accuracy: 0.6621\n",
            "Epoch 60/100\n",
            "484/484 [==============================] - 5s 11ms/step - loss: 1.8634 - accuracy: 0.6704\n",
            "Epoch 61/100\n",
            "484/484 [==============================] - 5s 11ms/step - loss: 1.8189 - accuracy: 0.6755\n",
            "Epoch 62/100\n",
            "484/484 [==============================] - 5s 11ms/step - loss: 1.7956 - accuracy: 0.6779\n",
            "Epoch 63/100\n",
            "484/484 [==============================] - 5s 11ms/step - loss: 1.7701 - accuracy: 0.6846\n",
            "Epoch 64/100\n",
            "484/484 [==============================] - 5s 11ms/step - loss: 1.7465 - accuracy: 0.6887\n",
            "Epoch 65/100\n",
            "484/484 [==============================] - 5s 11ms/step - loss: 1.7292 - accuracy: 0.6921\n",
            "Epoch 66/100\n",
            "484/484 [==============================] - 5s 11ms/step - loss: 1.6889 - accuracy: 0.7029\n",
            "Epoch 67/100\n",
            "484/484 [==============================] - 5s 11ms/step - loss: 1.6548 - accuracy: 0.7109\n",
            "Epoch 68/100\n",
            "484/484 [==============================] - 5s 11ms/step - loss: 1.6389 - accuracy: 0.7108\n",
            "Epoch 69/100\n",
            "484/484 [==============================] - 5s 11ms/step - loss: 1.6153 - accuracy: 0.7146\n",
            "Epoch 70/100\n",
            "484/484 [==============================] - 5s 11ms/step - loss: 1.5793 - accuracy: 0.7295\n",
            "Epoch 71/100\n",
            "484/484 [==============================] - 5s 11ms/step - loss: 1.5572 - accuracy: 0.7282\n",
            "Epoch 72/100\n",
            "484/484 [==============================] - 5s 11ms/step - loss: 1.5319 - accuracy: 0.7333\n",
            "Epoch 73/100\n",
            "484/484 [==============================] - 5s 11ms/step - loss: 1.5120 - accuracy: 0.7376\n",
            "Epoch 74/100\n",
            "484/484 [==============================] - 5s 11ms/step - loss: 1.5112 - accuracy: 0.7354\n",
            "Epoch 75/100\n",
            "484/484 [==============================] - 5s 11ms/step - loss: 1.4778 - accuracy: 0.7449\n",
            "Epoch 76/100\n",
            "484/484 [==============================] - 5s 11ms/step - loss: 1.4535 - accuracy: 0.7480\n",
            "Epoch 77/100\n",
            "484/484 [==============================] - 5s 10ms/step - loss: 1.4421 - accuracy: 0.7501\n",
            "Epoch 78/100\n",
            "484/484 [==============================] - 5s 10ms/step - loss: 1.4272 - accuracy: 0.7536\n",
            "Epoch 79/100\n",
            "484/484 [==============================] - 5s 11ms/step - loss: 1.4002 - accuracy: 0.7595\n",
            "Epoch 80/100\n",
            "484/484 [==============================] - 5s 11ms/step - loss: 1.3701 - accuracy: 0.7657\n",
            "Epoch 81/100\n",
            "484/484 [==============================] - 5s 11ms/step - loss: 1.3587 - accuracy: 0.7675\n",
            "Epoch 82/100\n",
            "484/484 [==============================] - 5s 10ms/step - loss: 1.3484 - accuracy: 0.7662\n",
            "Epoch 83/100\n",
            "484/484 [==============================] - 5s 11ms/step - loss: 1.3344 - accuracy: 0.7731\n",
            "Epoch 84/100\n",
            "484/484 [==============================] - 5s 11ms/step - loss: 1.3334 - accuracy: 0.7696\n",
            "Epoch 85/100\n",
            "484/484 [==============================] - 5s 11ms/step - loss: 1.3188 - accuracy: 0.7737\n",
            "Epoch 86/100\n",
            "484/484 [==============================] - 5s 11ms/step - loss: 1.2964 - accuracy: 0.7800\n",
            "Epoch 87/100\n",
            "484/484 [==============================] - 5s 10ms/step - loss: 1.2803 - accuracy: 0.7791\n",
            "Epoch 88/100\n",
            "484/484 [==============================] - 5s 10ms/step - loss: 1.2597 - accuracy: 0.7843\n",
            "Epoch 89/100\n",
            "484/484 [==============================] - 5s 10ms/step - loss: 1.2440 - accuracy: 0.7873\n",
            "Epoch 90/100\n",
            "484/484 [==============================] - 5s 11ms/step - loss: 1.2446 - accuracy: 0.7879\n",
            "Epoch 91/100\n",
            "484/484 [==============================] - 5s 11ms/step - loss: 1.2417 - accuracy: 0.7850\n",
            "Epoch 92/100\n",
            "484/484 [==============================] - 5s 11ms/step - loss: 1.2161 - accuracy: 0.7917\n",
            "Epoch 93/100\n",
            "484/484 [==============================] - 5s 11ms/step - loss: 1.2024 - accuracy: 0.7933\n",
            "Epoch 94/100\n",
            "484/484 [==============================] - 5s 10ms/step - loss: 1.1919 - accuracy: 0.7925\n",
            "Epoch 95/100\n",
            "484/484 [==============================] - 5s 10ms/step - loss: 1.1909 - accuracy: 0.7960\n",
            "Epoch 96/100\n",
            "484/484 [==============================] - 5s 10ms/step - loss: 1.1687 - accuracy: 0.7985\n",
            "Epoch 97/100\n",
            "484/484 [==============================] - 5s 10ms/step - loss: 1.1618 - accuracy: 0.7978\n",
            "Epoch 98/100\n",
            "484/484 [==============================] - 5s 10ms/step - loss: 1.1488 - accuracy: 0.8016\n",
            "Epoch 99/100\n",
            "484/484 [==============================] - 5s 10ms/step - loss: 1.1391 - accuracy: 0.8046\n",
            "Epoch 100/100\n",
            "484/484 [==============================] - 5s 11ms/step - loss: 1.1322 - accuracy: 0.8016\n"
          ],
          "name": "stdout"
        }
      ]
    },
    {
      "cell_type": "code",
      "metadata": {
        "colab_type": "code",
        "id": "1fXTEO3GJ282",
        "colab": {
          "base_uri": "https://localhost:8080/",
          "height": 544
        },
        "outputId": "4feb5ea8-61d8-458a-849b-2fd3a109b4c3"
      },
      "source": [
        "import matplotlib.pyplot as plt\n",
        "acc = history.history['accuracy']\n",
        "loss = history.history['loss']\n",
        "\n",
        "epochs = range(len(acc))\n",
        "\n",
        "plt.plot(epochs, acc, 'b', label='Training accuracy')\n",
        "plt.title('Training accuracy')\n",
        "\n",
        "plt.figure()\n",
        "\n",
        "plt.plot(epochs, loss, 'b', label='Training Loss')\n",
        "plt.title('Training loss')\n",
        "plt.legend()\n",
        "\n",
        "plt.show()"
      ],
      "execution_count": 8,
      "outputs": [
        {
          "output_type": "display_data",
          "data": {
            "image/png": "[encoded data removed]",
            "text/plain": [
              "<Figure size 432x288 with 1 Axes>"
            ]
          },
          "metadata": {
            "tags": [],
            "needs_background": "light"
          }
        },
        {
          "output_type": "display_data",
          "data": {
            "image/png": "[encoded data removed]",
            "text/plain": [
              "<Figure size 432x288 with 1 Axes>"
            ]
          },
          "metadata": {
            "tags": [],
            "needs_background": "light"
          }
        }
      ]
    },
    {
      "cell_type": "code",
      "metadata": {
        "colab_type": "code",
        "id": "6Vc6PHgxa6Hm",
        "colab": {
          "base_uri": "https://localhost:8080/",
          "height": 107
        },
        "outputId": "c842304e-85e4-4577-90d5-5f34a1e18454"
      },
      "source": [
        "seed_text = \"Help me Obi Wan Kenobi, you're my only hope\"\n",
        "next_words = 100\n",
        "  \n",
        "for _ in range(next_words):\n",
        "\ttoken_list = tokenizer.texts_to_sequences([seed_text])[0]\n",
        "\ttoken_list = pad_sequences([token_list], maxlen=max_sequence_len-1, padding='pre')\n",
        "\tpredicted = model.predict_classes(token_list, verbose=0)\n",
        "\toutput_word = \"\"\n",
        "\tfor word, index in tokenizer.word_index.items():\n",
        "\t\tif index == predicted:\n",
        "\t\t\toutput_word = word\n",
        "\t\t\tbreak\n",
        "\tseed_text += \" \" + output_word\n",
        "print(seed_text)"
      ],
      "execution_count": 9,
      "outputs": [
        {
          "output_type": "stream",
          "text": [
            "WARNING:tensorflow:From <ipython-input-9-622d307fa19a>:7: Sequential.predict_classes (from tensorflow.python.keras.engine.sequential) is deprecated and will be removed after 2021-01-01.\n",
            "Instructions for updating:\n",
            "Please use instead:* `np.argmax(model.predict(x), axis=-1)`,   if your model does multi-class classification   (e.g. if it uses a `softmax` last-layer activation).* `(model.predict(x) > 0.5).astype(\"int32\")`,   if your model does binary classification   (e.g. if it uses a `sigmoid` last-layer activation).\n",
            "Help me Obi Wan Kenobi, you're my only hope will yet my deeds to cross twain twain go guest ill blind place still still say false ' do so art i see find dead grow interest ill ill words look contains young ' aside 'no ' did look we green you look did thought free not free so sort sort tend show thee fair dead lie on her truth doth care care lie to none more spent spent rhyme days prove young prove thee ill kind doth ' ill well contains free twain view prove spend place on thee dead lie on her truth now make so lie to\n"
          ],
          "name": "stdout"
        }
      ]
    },
    {
      "cell_type": "code",
      "metadata": {
        "id": "EWLFORmLuW5H",
        "colab_type": "code",
        "colab": {}
      },
      "source": [
        "model.save(\"W4 Exercise Shakespeare.h5\")"
      ],
      "execution_count": 0,
      "outputs": []
    },
    {
      "cell_type": "code",
      "metadata": {
        "id": "o0k9ksNzucN2",
        "colab_type": "code",
        "colab": {}
      },
      "source": [
        "#Parth Maniar"
      ],
      "execution_count": 0,
      "outputs": []
    }
  ]
}